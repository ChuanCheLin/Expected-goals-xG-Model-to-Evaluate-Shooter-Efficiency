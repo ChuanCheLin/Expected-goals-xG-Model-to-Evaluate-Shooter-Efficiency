{
 "cells": [
  {
   "cell_type": "code",
   "execution_count": 1,
   "id": "81b9b555",
   "metadata": {},
   "outputs": [],
   "source": [
    "# !unzip archive.zip"
   ]
  },
  {
   "cell_type": "code",
   "execution_count": 2,
   "id": "2dc1f81f",
   "metadata": {},
   "outputs": [],
   "source": [
    "import pandas as pd\n",
    "import preprocessing\n",
    "import model"
   ]
  },
  {
   "cell_type": "code",
   "execution_count": 3,
   "id": "135b7bde",
   "metadata": {},
   "outputs": [],
   "source": [
    "events_file_path = './data/events.csv'\n",
    "ginf_file_path = './data/ginf.csv'"
   ]
  },
  {
   "cell_type": "code",
   "execution_count": 4,
   "id": "e5dd0a83",
   "metadata": {},
   "outputs": [
    {
     "name": "stderr",
     "output_type": "stream",
     "text": [
      "2024-04-18 20:31:55,683:INFO:Starting to load datasets.\n",
      "2024-04-18 20:31:59,842:INFO:Loaded events data from ./data/events.csv.\n",
      "2024-04-18 20:31:59,876:INFO:Loaded game information data from ./data/ginf.csv.\n",
      "2024-04-18 20:32:00,361:INFO:Merged events and game information datasets.\n"
     ]
    }
   ],
   "source": [
    "df = preprocessing.load_and_merge_data(events_file_path, ginf_file_path)"
   ]
  },
  {
   "cell_type": "code",
   "execution_count": 5,
   "id": "0739ffc9",
   "metadata": {},
   "outputs": [
    {
     "data": {
      "text/html": [
       "<div>\n",
       "<style scoped>\n",
       "    .dataframe tbody tr th:only-of-type {\n",
       "        vertical-align: middle;\n",
       "    }\n",
       "\n",
       "    .dataframe tbody tr th {\n",
       "        vertical-align: top;\n",
       "    }\n",
       "\n",
       "    .dataframe thead th {\n",
       "        text-align: right;\n",
       "    }\n",
       "</style>\n",
       "<table border=\"1\" class=\"dataframe\">\n",
       "  <thead>\n",
       "    <tr style=\"text-align: right;\">\n",
       "      <th></th>\n",
       "      <th>id_odsp</th>\n",
       "      <th>id_event</th>\n",
       "      <th>sort_order</th>\n",
       "      <th>time</th>\n",
       "      <th>text</th>\n",
       "      <th>event_type</th>\n",
       "      <th>event_type2</th>\n",
       "      <th>side</th>\n",
       "      <th>event_team</th>\n",
       "      <th>opponent</th>\n",
       "      <th>...</th>\n",
       "      <th>at</th>\n",
       "      <th>fthg</th>\n",
       "      <th>ftag</th>\n",
       "      <th>odd_h</th>\n",
       "      <th>odd_d</th>\n",
       "      <th>odd_a</th>\n",
       "      <th>odd_over</th>\n",
       "      <th>odd_under</th>\n",
       "      <th>odd_bts</th>\n",
       "      <th>odd_bts_n</th>\n",
       "    </tr>\n",
       "  </thead>\n",
       "  <tbody>\n",
       "    <tr>\n",
       "      <th>0</th>\n",
       "      <td>UFot0hit/</td>\n",
       "      <td>UFot0hit1</td>\n",
       "      <td>1</td>\n",
       "      <td>2</td>\n",
       "      <td>Attempt missed. Mladen Petric (Hamburg) left f...</td>\n",
       "      <td>1</td>\n",
       "      <td>12.0</td>\n",
       "      <td>2</td>\n",
       "      <td>Hamburg SV</td>\n",
       "      <td>Borussia Dortmund</td>\n",
       "      <td>...</td>\n",
       "      <td>Hamburg SV</td>\n",
       "      <td>3</td>\n",
       "      <td>1</td>\n",
       "      <td>1.56</td>\n",
       "      <td>4.41</td>\n",
       "      <td>7.42</td>\n",
       "      <td>NaN</td>\n",
       "      <td>NaN</td>\n",
       "      <td>NaN</td>\n",
       "      <td>NaN</td>\n",
       "    </tr>\n",
       "    <tr>\n",
       "      <th>1</th>\n",
       "      <td>UFot0hit/</td>\n",
       "      <td>UFot0hit2</td>\n",
       "      <td>2</td>\n",
       "      <td>4</td>\n",
       "      <td>Corner,  Borussia Dortmund. Conceded by Dennis...</td>\n",
       "      <td>2</td>\n",
       "      <td>NaN</td>\n",
       "      <td>1</td>\n",
       "      <td>Borussia Dortmund</td>\n",
       "      <td>Hamburg SV</td>\n",
       "      <td>...</td>\n",
       "      <td>Hamburg SV</td>\n",
       "      <td>3</td>\n",
       "      <td>1</td>\n",
       "      <td>1.56</td>\n",
       "      <td>4.41</td>\n",
       "      <td>7.42</td>\n",
       "      <td>NaN</td>\n",
       "      <td>NaN</td>\n",
       "      <td>NaN</td>\n",
       "      <td>NaN</td>\n",
       "    </tr>\n",
       "    <tr>\n",
       "      <th>2</th>\n",
       "      <td>UFot0hit/</td>\n",
       "      <td>UFot0hit3</td>\n",
       "      <td>3</td>\n",
       "      <td>4</td>\n",
       "      <td>Corner,  Borussia Dortmund. Conceded by Heiko ...</td>\n",
       "      <td>2</td>\n",
       "      <td>NaN</td>\n",
       "      <td>1</td>\n",
       "      <td>Borussia Dortmund</td>\n",
       "      <td>Hamburg SV</td>\n",
       "      <td>...</td>\n",
       "      <td>Hamburg SV</td>\n",
       "      <td>3</td>\n",
       "      <td>1</td>\n",
       "      <td>1.56</td>\n",
       "      <td>4.41</td>\n",
       "      <td>7.42</td>\n",
       "      <td>NaN</td>\n",
       "      <td>NaN</td>\n",
       "      <td>NaN</td>\n",
       "      <td>NaN</td>\n",
       "    </tr>\n",
       "  </tbody>\n",
       "</table>\n",
       "<p>3 rows × 39 columns</p>\n",
       "</div>"
      ],
      "text/plain": [
       "     id_odsp   id_event  sort_order  time  \\\n",
       "0  UFot0hit/  UFot0hit1           1     2   \n",
       "1  UFot0hit/  UFot0hit2           2     4   \n",
       "2  UFot0hit/  UFot0hit3           3     4   \n",
       "\n",
       "                                                text  event_type  event_type2  \\\n",
       "0  Attempt missed. Mladen Petric (Hamburg) left f...           1         12.0   \n",
       "1  Corner,  Borussia Dortmund. Conceded by Dennis...           2          NaN   \n",
       "2  Corner,  Borussia Dortmund. Conceded by Heiko ...           2          NaN   \n",
       "\n",
       "   side         event_team           opponent  ...          at fthg ftag  \\\n",
       "0     2         Hamburg SV  Borussia Dortmund  ...  Hamburg SV    3    1   \n",
       "1     1  Borussia Dortmund         Hamburg SV  ...  Hamburg SV    3    1   \n",
       "2     1  Borussia Dortmund         Hamburg SV  ...  Hamburg SV    3    1   \n",
       "\n",
       "  odd_h  odd_d  odd_a  odd_over  odd_under  odd_bts  odd_bts_n  \n",
       "0  1.56   4.41   7.42       NaN        NaN      NaN        NaN  \n",
       "1  1.56   4.41   7.42       NaN        NaN      NaN        NaN  \n",
       "2  1.56   4.41   7.42       NaN        NaN      NaN        NaN  \n",
       "\n",
       "[3 rows x 39 columns]"
      ]
     },
     "execution_count": 5,
     "metadata": {},
     "output_type": "execute_result"
    }
   ],
   "source": [
    "df.head(3)"
   ]
  },
  {
   "cell_type": "code",
   "execution_count": 6,
   "id": "6d4d5a7e",
   "metadata": {},
   "outputs": [
    {
     "name": "stderr",
     "output_type": "stream",
     "text": [
      "2024-04-18 20:32:00,442:INFO:Starting preprocessing of data.\n",
      "2024-04-18 20:32:03,265:INFO:Removed duplicate records.\n",
      "2024-04-18 20:32:03,326:INFO:Filled missing values for categorical data.\n",
      "2024-04-18 20:32:04,353:INFO:Selected features and target. Applied meaningful one-hot encoding.\n",
      "2024-04-18 20:32:04,767:INFO:Split data into training and testing sets with similar distribution for the target variable.\n",
      "2024-04-18 20:32:04,768:INFO:Returned data without scaling.\n"
     ]
    }
   ],
   "source": [
    "X_train, X_test, y_train, y_test = preprocessing.preprocess_data(df, scale=False)"
   ]
  },
  {
   "cell_type": "code",
   "execution_count": 7,
   "id": "ac785091",
   "metadata": {},
   "outputs": [
    {
     "name": "stdout",
     "output_type": "stream",
     "text": [
      "X_train shape: (752807, 32)\n",
      "X_test shape: (188202, 32)\n",
      "y_train shape: (752807,)\n",
      "y_test shape: (188202,)\n"
     ]
    }
   ],
   "source": [
    "print(f\"X_train shape: {X_train.shape}\")\n",
    "print(f\"X_test shape: {X_test.shape}\")\n",
    "print(f\"y_train shape: {y_train.shape}\")\n",
    "print(f\"y_test shape: {y_test.shape}\")"
   ]
  },
  {
   "cell_type": "code",
   "execution_count": 8,
   "id": "16425812",
   "metadata": {},
   "outputs": [
    {
     "name": "stdout",
     "output_type": "stream",
     "text": [
      "Index(['fast_break', 'location_Attacking_half', 'location_Centre_of_the_box',\n",
      "       'location_Defensive_half', 'location_Difficult_angle_and_long_range',\n",
      "       'location_Difficult_angle_on_the_left',\n",
      "       'location_Difficult_angle_on_the_right',\n",
      "       'location_Left_side_of_the_box',\n",
      "       'location_Left_side_of_the_six_yard_box', 'location_Left_wing',\n",
      "       'location_Long_range', 'location_More_than_35_yards',\n",
      "       'location_More_than_40_yards', 'location_Not_recorded',\n",
      "       'location_Outside_the_box', 'location_Penalty_spot',\n",
      "       'location_Right_side_of_the_box',\n",
      "       'location_Right_side_of_the_six_yard_box', 'location_Right_wing',\n",
      "       'location_Very_close_range', 'bodypart_head', 'bodypart_left_foot',\n",
      "       'bodypart_right_foot', 'assist_method_Cross',\n",
      "       'assist_method_Headed_pass', 'assist_method_None', 'assist_method_Pass',\n",
      "       'assist_method_Through_ball', 'situation_Corner', 'situation_Free_kick',\n",
      "       'situation_Open_play', 'situation_Set_piece'],\n",
      "      dtype='object')\n"
     ]
    }
   ],
   "source": [
    "print(X_train.columns)"
   ]
  },
  {
   "cell_type": "code",
   "execution_count": 9,
   "id": "01a9463f",
   "metadata": {},
   "outputs": [],
   "source": [
    "# print(y_train)"
   ]
  },
  {
   "cell_type": "code",
   "execution_count": 10,
   "id": "5b8b8537",
   "metadata": {},
   "outputs": [
    {
     "name": "stderr",
     "output_type": "stream",
     "text": [
      "2024-04-18 20:32:04,854:INFO:Starting model training.\n"
     ]
    },
    {
     "name": "stdout",
     "output_type": "stream",
     "text": [
      "Fitting 5 folds for each of 10 candidates, totalling 50 fits\n"
     ]
    },
    {
     "name": "stderr",
     "output_type": "stream",
     "text": [
      "2024-04-18 20:40:02,997:INFO:Model training completed in 478.14 seconds.\n",
      "2024-04-18 20:40:02,998:INFO:Best parameters: {'C': 10, 'solver': 'liblinear'}. Best score: 0.978241435240778.\n"
     ]
    }
   ],
   "source": [
    "best_model = model.train_model(X_train, y_train)"
   ]
  },
  {
   "cell_type": "code",
   "execution_count": 11,
   "id": "63bae1b9",
   "metadata": {},
   "outputs": [
    {
     "name": "stderr",
     "output_type": "stream",
     "text": [
      "2024-04-18 20:40:03,302:INFO:Model evaluation completed. Accuracy: 0.9779226575700577.\n",
      "2024-04-18 20:40:03,304:INFO:Classification Report: \n",
      "              precision    recall  f1-score   support\n",
      "\n",
      "           0       0.98      1.00      0.99    183313\n",
      "           1       0.71      0.25      0.37      4889\n",
      "\n",
      "    accuracy                           0.98    188202\n",
      "   macro avg       0.85      0.62      0.68    188202\n",
      "weighted avg       0.97      0.98      0.97    188202\n",
      "\n"
     ]
    }
   ],
   "source": [
    "model.evaluate_model(best_model, X_test, y_test)"
   ]
  },
  {
   "cell_type": "code",
   "execution_count": 12,
   "id": "f13a8d46",
   "metadata": {},
   "outputs": [
    {
     "name": "stderr",
     "output_type": "stream",
     "text": [
      "2024-04-18 20:40:03,315:INFO:Model saved to ./models/LR_base.pkl.\n"
     ]
    }
   ],
   "source": [
    "model.save_model(best_model, filename='./models/LR_base.pkl')"
   ]
  },
  {
   "cell_type": "code",
   "execution_count": null,
   "id": "fee76374",
   "metadata": {},
   "outputs": [],
   "source": []
  }
 ],
 "metadata": {
  "kernelspec": {
   "display_name": "conda_python3",
   "language": "python",
   "name": "conda_python3"
  },
  "language_info": {
   "codemirror_mode": {
    "name": "ipython",
    "version": 3
   },
   "file_extension": ".py",
   "mimetype": "text/x-python",
   "name": "python",
   "nbconvert_exporter": "python",
   "pygments_lexer": "ipython3",
   "version": "3.10.13"
  }
 },
 "nbformat": 4,
 "nbformat_minor": 5
}
